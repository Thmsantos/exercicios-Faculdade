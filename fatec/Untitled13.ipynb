{
  "nbformat": 4,
  "nbformat_minor": 0,
  "metadata": {
    "colab": {
      "provenance": []
    },
    "kernelspec": {
      "name": "python3",
      "display_name": "Python 3"
    },
    "language_info": {
      "name": "python"
    }
  },
  "cells": [
    {
      "cell_type": "code",
      "execution_count": 41,
      "metadata": {
        "colab": {
          "base_uri": "https://localhost:8080/"
        },
        "id": "L24baruqdgRi",
        "outputId": "78127a37-183a-4d9d-90df-735a6702cf84"
      },
      "outputs": [
        {
          "output_type": "stream",
          "name": "stdout",
          "text": [
            "5\n",
            "29\n",
            "[34, 5, 32, 40, 8, 28, 36, 15, 19, 50]\n"
          ]
        }
      ],
      "source": [
        "import random\n",
        "\n",
        "def function(numero, lista):\n",
        "  x = 0\n",
        "  for i in range(len(lista)):\n",
        "    if lista[i] < numero:\n",
        "        x = x + 1\n",
        "  print(x)\n",
        "\n",
        "numero = random.randint(10, 50)\n",
        "lista = [0] * 10\n",
        "\n",
        "for i in range(len(lista)):\n",
        "   lista[i] = random.randint(0, 50)\n",
        "\n",
        "function(numero, lista);\n",
        "\n",
        "print(numero)\n",
        "print(lista)\n",
        "  \n",
        "\n",
        "\n",
        "  "
      ]
    }
  ]
}
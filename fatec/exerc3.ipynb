{
  "nbformat": 4,
  "nbformat_minor": 0,
  "metadata": {
    "colab": {
      "provenance": [],
      "authorship_tag": "ABX9TyP5qVchWbMT4dhJVUEtt6tg",
      "include_colab_link": true
    },
    "kernelspec": {
      "name": "python3",
      "display_name": "Python 3"
    },
    "language_info": {
      "name": "python"
    }
  },
  "cells": [
    {
      "cell_type": "markdown",
      "metadata": {
        "id": "view-in-github",
        "colab_type": "text"
      },
      "source": [
        "<a href=\"https://colab.research.google.com/github/Thmsantos/Exercicios-Faculdade/blob/main/exerc3.ipynb\" target=\"_parent\"><img src=\"https://colab.research.google.com/assets/colab-badge.svg\" alt=\"Open In Colab\"/></a>"
      ]
    },
    {
      "cell_type": "code",
      "execution_count": 5,
      "metadata": {
        "colab": {
          "base_uri": "https://localhost:8080/"
        },
        "id": "4ZaMLMnleQdl",
        "outputId": "d097b4cd-df2c-4701-d5ef-e98a68276a97"
      },
      "outputs": [
        {
          "output_type": "stream",
          "name": "stdout",
          "text": [
            "lado: 4\n",
            "altura: 10\n",
            "area: 40.0   perimetro: 28.0\n"
          ]
        }
      ],
      "source": [
        "lado = float(input(\"lado: \"))\n",
        "altura = float(input(\"altura: \"))\n",
        "\n",
        "area = lado * altura\n",
        "perimetro = (lado * 2) + (altura * 2)\n",
        "\n",
        "print(\"area:\", area, \"  perimetro:\", perimetro)"
      ]
    },
    {
      "cell_type": "code",
      "source": [],
      "metadata": {
        "id": "wmhqaIhbg5nB"
      },
      "execution_count": null,
      "outputs": []
    }
  ]
}
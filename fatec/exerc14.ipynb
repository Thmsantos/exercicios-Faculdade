{
  "nbformat": 4,
  "nbformat_minor": 0,
  "metadata": {
    "colab": {
      "provenance": [],
      "authorship_tag": "ABX9TyPPLirDO8aQ36Vxrpl7cgRC",
      "include_colab_link": true
    },
    "kernelspec": {
      "name": "python3",
      "display_name": "Python 3"
    },
    "language_info": {
      "name": "python"
    }
  },
  "cells": [
    {
      "cell_type": "markdown",
      "metadata": {
        "id": "view-in-github",
        "colab_type": "text"
      },
      "source": [
        "<a href=\"https://colab.research.google.com/github/Thmsantos/Exercicios-Faculdade/blob/main/exerc14.ipynb\" target=\"_parent\"><img src=\"https://colab.research.google.com/assets/colab-badge.svg\" alt=\"Open In Colab\"/></a>"
      ]
    },
    {
      "cell_type": "code",
      "execution_count": 4,
      "metadata": {
        "colab": {
          "base_uri": "https://localhost:8080/"
        },
        "id": "4UBT8-FePbGc",
        "outputId": "69ab92c9-b0e3-4937-edc6-14da4551fff1"
      },
      "outputs": [
        {
          "output_type": "stream",
          "name": "stdout",
          "text": [
            "nota um: 6\n",
            "nota dois: 6\n",
            "nota tres: 6\n",
            "nota quatro: 6\n",
            "nota exame: 3\n",
            "reprovado\n"
          ]
        }
      ],
      "source": [
        "nota_um = float(input(\"nota um: \"))\n",
        "nota_dois = float(input(\"nota dois: \"))\n",
        "nota_tres = float(input(\"nota tres: \"))\n",
        "nota_quatro = float(input(\"nota quatro: \"))\n",
        "\n",
        "media = (2 * nota_um + 2 * nota_dois + 3 * nota_tres + 3 * nota_quatro ) / 10\n",
        "\n",
        "if media <7 and media >= 5:\n",
        "  exame = float(input(\"nota exame: \"))\n",
        "  media_com_exame = (media + exame) / 2\n",
        "  media = media_com_exame\n",
        "\n",
        "if media >= 7:\n",
        "    print(\"aprovado\")\n",
        "\n",
        "if media <5:\n",
        "  print(\"reprovado\")\n",
        "\n",
        "   \n"
      ]
    },
    {
      "cell_type": "code",
      "source": [],
      "metadata": {
        "id": "UxmHCdBHQ4Ko"
      },
      "execution_count": null,
      "outputs": []
    }
  ]
}
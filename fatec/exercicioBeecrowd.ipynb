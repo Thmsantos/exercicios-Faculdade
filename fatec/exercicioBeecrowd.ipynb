{
  "nbformat": 4,
  "nbformat_minor": 0,
  "metadata": {
    "colab": {
      "provenance": [],
      "authorship_tag": "ABX9TyNTV17/zXdVxqLt51hbRLy/",
      "include_colab_link": true
    },
    "kernelspec": {
      "name": "python3",
      "display_name": "Python 3"
    },
    "language_info": {
      "name": "python"
    }
  },
  "cells": [
    {
      "cell_type": "markdown",
      "metadata": {
        "id": "view-in-github",
        "colab_type": "text"
      },
      "source": [
        "<a href=\"https://colab.research.google.com/github/Thmsantos/Exercicios-Faculdade/blob/main/exercicioBeecrowd.ipynb\" target=\"_parent\"><img src=\"https://colab.research.google.com/assets/colab-badge.svg\" alt=\"Open In Colab\"/></a>"
      ]
    },
    {
      "cell_type": "code",
      "execution_count": 12,
      "metadata": {
        "colab": {
          "base_uri": "https://localhost:8080/"
        },
        "id": "YMO0Ufv4l31g",
        "outputId": "0d43462b-40b4-4100-830f-2f710f185fc0"
      },
      "outputs": [
        {
          "output_type": "stream",
          "name": "stdout",
          "text": [
            " 5.0\n",
            " 7.1\n",
            "MEDIA = 6.43182\n"
          ]
        }
      ],
      "source": [
        "A = float(input(\" \"))\n",
        "B = float(input(\" \"))\n",
        "\n",
        "pesoA = A * 3.5\n",
        "pesoB = B * 7.5\n",
        "\n",
        "MEDIA = (pesoA + pesoB) / 11\n",
        "\n",
        "print(\"MEDIA = %2.5f\" % (MEDIA))"
      ]
    }
  ]
}
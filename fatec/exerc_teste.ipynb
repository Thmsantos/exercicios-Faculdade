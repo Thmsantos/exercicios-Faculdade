{
  "nbformat": 4,
  "nbformat_minor": 0,
  "metadata": {
    "colab": {
      "provenance": [],
      "authorship_tag": "ABX9TyNAoTBcXLuU22l9KyzlSPO0",
      "include_colab_link": true
    },
    "kernelspec": {
      "name": "python3",
      "display_name": "Python 3"
    },
    "language_info": {
      "name": "python"
    }
  },
  "cells": [
    {
      "cell_type": "markdown",
      "metadata": {
        "id": "view-in-github",
        "colab_type": "text"
      },
      "source": [
        "<a href=\"https://colab.research.google.com/github/Thmsantos/Exercicios-Faculdade/blob/main/exerc_teste.ipynb\" target=\"_parent\"><img src=\"https://colab.research.google.com/assets/colab-badge.svg\" alt=\"Open In Colab\"/></a>"
      ]
    },
    {
      "cell_type": "code",
      "execution_count": null,
      "metadata": {
        "colab": {
          "base_uri": "https://localhost:8080/"
        },
        "id": "MGprQs7Rbk6H",
        "outputId": "0a703849-9302-4f65-f2b5-c46aedf468a4"
      },
      "outputs": [
        {
          "output_type": "stream",
          "name": "stdout",
          "text": [
            "A = 30\n",
            "B = 60\n",
            "30 / 60 =  0.5\n"
          ]
        }
      ],
      "source": [
        "a = int(input(\"A = \"))\n",
        "b = int(input(\"B = \"))\n",
        "x = a / b \n",
        "\n",
        "print(\"%d / %d = %4.1f\" %(a , b, x))"
      ]
    }
  ]
}
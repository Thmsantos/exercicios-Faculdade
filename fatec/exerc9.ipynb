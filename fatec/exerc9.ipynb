{
  "nbformat": 4,
  "nbformat_minor": 0,
  "metadata": {
    "colab": {
      "provenance": [],
      "authorship_tag": "ABX9TyOIWJPM8/vY9Ud9I/2oNwZd",
      "include_colab_link": true
    },
    "kernelspec": {
      "name": "python3",
      "display_name": "Python 3"
    },
    "language_info": {
      "name": "python"
    }
  },
  "cells": [
    {
      "cell_type": "markdown",
      "metadata": {
        "id": "view-in-github",
        "colab_type": "text"
      },
      "source": [
        "<a href=\"https://colab.research.google.com/github/Thmsantos/Exercicios-Faculdade/blob/main/exerc9.ipynb\" target=\"_parent\"><img src=\"https://colab.research.google.com/assets/colab-badge.svg\" alt=\"Open In Colab\"/></a>"
      ]
    },
    {
      "cell_type": "code",
      "execution_count": 28,
      "metadata": {
        "colab": {
          "base_uri": "https://localhost:8080/"
        },
        "id": "omQHadlG8WWb",
        "outputId": "6bc67427-49b3-4591-ef5b-5681b1e40e21"
      },
      "outputs": [
        {
          "output_type": "stream",
          "name": "stdout",
          "text": [
            "nota 1: 9\n",
            "nota 2: 8\n",
            "nota 3: 10\n",
            "9.0\n"
          ]
        }
      ],
      "source": [
        "n1 = float(input(\"nota 1: \"))\n",
        "n2 = float(input(\"nota 2: \"))\n",
        "n3 = float (input(\"nota 3: \"))\n",
        "\n",
        "media = (n1 + n2 + n3) / 3\n",
        "\n",
        "print (media)"
      ]
    },
    {
      "cell_type": "code",
      "source": [],
      "metadata": {
        "id": "3Y7neNpZd79j"
      },
      "execution_count": null,
      "outputs": []
    }
  ]
}
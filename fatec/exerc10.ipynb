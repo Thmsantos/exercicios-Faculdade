{
  "nbformat": 4,
  "nbformat_minor": 0,
  "metadata": {
    "colab": {
      "provenance": [],
      "authorship_tag": "ABX9TyMiSVMCLTpqeMK5GN8pI/NY",
      "include_colab_link": true
    },
    "kernelspec": {
      "name": "python3",
      "display_name": "Python 3"
    },
    "language_info": {
      "name": "python"
    }
  },
  "cells": [
    {
      "cell_type": "markdown",
      "metadata": {
        "id": "view-in-github",
        "colab_type": "text"
      },
      "source": [
        "<a href=\"https://colab.research.google.com/github/Thmsantos/Exercicios-Faculdade/blob/main/exerc10.ipynb\" target=\"_parent\"><img src=\"https://colab.research.google.com/assets/colab-badge.svg\" alt=\"Open In Colab\"/></a>"
      ]
    },
    {
      "cell_type": "code",
      "execution_count": 11,
      "metadata": {
        "colab": {
          "base_uri": "https://localhost:8080/"
        },
        "id": "omQHadlG8WWb",
        "outputId": "555ae7ac-86da-479d-940b-f97fc7a57d56"
      },
      "outputs": [
        {
          "output_type": "stream",
          "name": "stdout",
          "text": [
            "nota um: 8\n",
            "nota dois: 6\n",
            "nota tres: 10\n",
            "media ponderada =  8.4\n"
          ]
        }
      ],
      "source": [
        "notaUm = float(input(\"nota um: \"))\n",
        "notaDois = float(input(\"nota dois: \"))\n",
        "notaTres = float(input(\"nota tres: \"))\n",
        "\n",
        "pesoUm = notaUm * 2\n",
        "pesoDois = notaDois * 3\n",
        "pesoTres = notaTres * 5\n",
        "\n",
        "media = (pesoUm + pesoDois + pesoTres) / 10\n",
        "\n",
        "print(\"media ponderada = %4.1f\" % (media))\n"
      ]
    }
  ]
}
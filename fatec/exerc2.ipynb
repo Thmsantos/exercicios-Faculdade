{
  "nbformat": 4,
  "nbformat_minor": 0,
  "metadata": {
    "colab": {
      "provenance": [],
      "authorship_tag": "ABX9TyOtHmOXaioTDD5eodwfho+I",
      "include_colab_link": true
    },
    "kernelspec": {
      "name": "python3",
      "display_name": "Python 3"
    },
    "language_info": {
      "name": "python"
    }
  },
  "cells": [
    {
      "cell_type": "markdown",
      "metadata": {
        "id": "view-in-github",
        "colab_type": "text"
      },
      "source": [
        "<a href=\"https://colab.research.google.com/github/Thmsantos/Exercicios-Faculdade/blob/main/exerc2.ipynb\" target=\"_parent\"><img src=\"https://colab.research.google.com/assets/colab-badge.svg\" alt=\"Open In Colab\"/></a>"
      ]
    },
    {
      "cell_type": "code",
      "execution_count": 2,
      "metadata": {
        "colab": {
          "base_uri": "https://localhost:8080/"
        },
        "id": "4ZaMLMnleQdl",
        "outputId": "c69d5f38-4361-4934-936e-d4ed8131c804"
      },
      "outputs": [
        {
          "output_type": "stream",
          "name": "stdout",
          "text": [
            "a: 20\n",
            "b: 3\n",
            "20 * 3 = 60\n"
          ]
        }
      ],
      "source": [
        "a = int (input(\"a: \"))\n",
        "b = int (input(\"b: \"))\n",
        "\n",
        "x = a * b\n",
        "\n",
        "print(\"%d * %d = %d\" %(a, b, x))"
      ]
    },
    {
      "cell_type": "code",
      "source": [],
      "metadata": {
        "id": "wmhqaIhbg5nB"
      },
      "execution_count": null,
      "outputs": []
    }
  ]
}
{
  "nbformat": 4,
  "nbformat_minor": 0,
  "metadata": {
    "colab": {
      "provenance": []
    },
    "kernelspec": {
      "name": "python3",
      "display_name": "Python 3"
    },
    "language_info": {
      "name": "python"
    }
  },
  "cells": [
    {
      "cell_type": "code",
      "execution_count": 8,
      "metadata": {
        "colab": {
          "base_uri": "https://localhost:8080/"
        },
        "id": "Nn2QBQ2PcghU",
        "outputId": "59183fa8-5a8c-48b2-dabb-5a7fbfe12312"
      },
      "outputs": [
        {
          "output_type": "stream",
          "name": "stdout",
          "text": [
            "0\n",
            "5\n",
            "10\n",
            "15\n"
          ]
        }
      ],
      "source": [
        "\"\"\"de 5 em 5 \"\"\"\n",
        "\n",
        "for i in range(0, 20, 5):\n",
        "  print(i)"
      ]
    }
  ]
}
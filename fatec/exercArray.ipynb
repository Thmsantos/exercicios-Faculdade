{
  "nbformat": 4,
  "nbformat_minor": 0,
  "metadata": {
    "colab": {
      "provenance": [],
      "authorship_tag": "ABX9TyPXJz+NaEBLa0nfIZrd/m5g",
      "include_colab_link": true
    },
    "kernelspec": {
      "name": "python3",
      "display_name": "Python 3"
    },
    "language_info": {
      "name": "python"
    }
  },
  "cells": [
    {
      "cell_type": "markdown",
      "metadata": {
        "id": "view-in-github",
        "colab_type": "text"
      },
      "source": [
        "<a href=\"https://colab.research.google.com/github/Thmsantos/Exercicios-Faculdade/blob/main/exercArray.ipynb\" target=\"_parent\"><img src=\"https://colab.research.google.com/assets/colab-badge.svg\" alt=\"Open In Colab\"/></a>"
      ]
    },
    {
      "cell_type": "code",
      "execution_count": 6,
      "metadata": {
        "colab": {
          "base_uri": "https://localhost:8080/"
        },
        "id": "Nn2QBQ2PcghU",
        "outputId": "1f5756f3-3304-47e0-da58-88b1392876d7"
      },
      "outputs": [
        {
          "output_type": "stream",
          "name": "stdout",
          "text": [
            "nome: thiago\n",
            "nome: gui\n",
            "nome: caio\n",
            "nome: vitor\n",
            "nome: pedro\n",
            "nome: arthur\n",
            "nome: matheus\n",
            "nome: lucas\n",
            "nome: icaro\n",
            "nome: kaue\n",
            "9 = kaue\n",
            "8 = icaro\n",
            "7 = lucas\n",
            "6 = matheus\n",
            "5 = arthur\n",
            "4 = pedro\n",
            "3 = vitor\n",
            "2 = caio\n",
            "1 = gui\n",
            "0 = thiago\n"
          ]
        }
      ],
      "source": [
        "lista = [''] * 10\n",
        "\n",
        "for i in range(len(lista)):\n",
        "  lista[i] = str(input(\"nome: \"))\n",
        "\n",
        "\n",
        "''' invertendo o array\n",
        "\n",
        "i = len(lista) - 1\n",
        "while i >= 0:\n",
        "  print(i, lista[i])\n",
        "  i = i - 1 '''\n",
        "\n",
        "for i in range(len(lista)-1, -1, -1):\n",
        "  print(i, '=', lista[i])"
      ]
    }
  ]
}
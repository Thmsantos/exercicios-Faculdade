{
  "nbformat": 4,
  "nbformat_minor": 0,
  "metadata": {
    "colab": {
      "provenance": [],
      "authorship_tag": "ABX9TyMvx+4QPC+YmVegVB8pWqoc",
      "include_colab_link": true
    },
    "kernelspec": {
      "name": "python3",
      "display_name": "Python 3"
    },
    "language_info": {
      "name": "python"
    }
  },
  "cells": [
    {
      "cell_type": "markdown",
      "metadata": {
        "id": "view-in-github",
        "colab_type": "text"
      },
      "source": [
        "<a href=\"https://colab.research.google.com/github/Thmsantos/Exercicios-Faculdade/blob/main/exerc1.ipynb\" target=\"_parent\"><img src=\"https://colab.research.google.com/assets/colab-badge.svg\" alt=\"Open In Colab\"/></a>"
      ]
    },
    {
      "cell_type": "code",
      "execution_count": 4,
      "metadata": {
        "colab": {
          "base_uri": "https://localhost:8080/"
        },
        "id": "MGprQs7Rbk6H",
        "outputId": "7601c0f0-49a5-46bc-b60a-fd980652eaf7"
      },
      "outputs": [
        {
          "output_type": "stream",
          "name": "stdout",
          "text": [
            "A = 30\n",
            "B = 45.7\n",
            "30 + 45 = 75.7\n"
          ]
        }
      ],
      "source": [
        "a = float(input(\"A = \"))\n",
        "b = float(input(\"B = \"))\n",
        "x = a + b \n",
        "\n",
        "print(\"%d + %f= %4.1f\" %(a , b, x))"
      ]
    }
  ]
}
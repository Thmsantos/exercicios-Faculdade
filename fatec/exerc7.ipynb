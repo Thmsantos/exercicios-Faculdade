{
  "nbformat": 4,
  "nbformat_minor": 0,
  "metadata": {
    "colab": {
      "provenance": [],
      "authorship_tag": "ABX9TyOlRqzF17H4gTnFO2ksEKiT",
      "include_colab_link": true
    },
    "kernelspec": {
      "name": "python3",
      "display_name": "Python 3"
    },
    "language_info": {
      "name": "python"
    }
  },
  "cells": [
    {
      "cell_type": "markdown",
      "metadata": {
        "id": "view-in-github",
        "colab_type": "text"
      },
      "source": [
        "<a href=\"https://colab.research.google.com/github/Thmsantos/Exercicios-Faculdade/blob/main/exerc7.ipynb\" target=\"_parent\"><img src=\"https://colab.research.google.com/assets/colab-badge.svg\" alt=\"Open In Colab\"/></a>"
      ]
    },
    {
      "cell_type": "code",
      "execution_count": 23,
      "metadata": {
        "colab": {
          "base_uri": "https://localhost:8080/"
        },
        "id": "omQHadlG8WWb",
        "outputId": "f507d0d2-7702-47da-8760-7edf341646a2"
      },
      "outputs": [
        {
          "output_type": "stream",
          "name": "stdout",
          "text": [
            "raio: 5\n",
            "Altura: 20\n",
            "1570.0\n"
          ]
        }
      ],
      "source": [
        "raio = int(input(\"raio: \"))\n",
        "altura = int(input(\"Altura: \"))\n",
        "\n",
        "volume = (3.14 * (raio ** 2)) * altura\n",
        "\n",
        "print(volume)"
      ]
    },
    {
      "cell_type": "code",
      "source": [],
      "metadata": {
        "id": "3Y7neNpZd79j"
      },
      "execution_count": null,
      "outputs": []
    }
  ]
}
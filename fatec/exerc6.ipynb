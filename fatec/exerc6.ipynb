{
  "nbformat": 4,
  "nbformat_minor": 0,
  "metadata": {
    "colab": {
      "provenance": [],
      "authorship_tag": "ABX9TyMU3ySXIg/uxF86cxYE/hkj",
      "include_colab_link": true
    },
    "kernelspec": {
      "name": "python3",
      "display_name": "Python 3"
    },
    "language_info": {
      "name": "python"
    }
  },
  "cells": [
    {
      "cell_type": "markdown",
      "metadata": {
        "id": "view-in-github",
        "colab_type": "text"
      },
      "source": [
        "<a href=\"https://colab.research.google.com/github/Thmsantos/Exercicios-Faculdade/blob/main/exerc6.ipynb\" target=\"_parent\"><img src=\"https://colab.research.google.com/assets/colab-badge.svg\" alt=\"Open In Colab\"/></a>"
      ]
    },
    {
      "cell_type": "code",
      "execution_count": 21,
      "metadata": {
        "colab": {
          "base_uri": "https://localhost:8080/"
        },
        "id": "omQHadlG8WWb",
        "outputId": "2e8f0ec0-1d5c-4064-f0c8-69f0a9db95fe"
      },
      "outputs": [
        {
          "output_type": "stream",
          "name": "stdout",
          "text": [
            "lado parede: 10\n",
            "altura parede: 10\n",
            "lado Azulejo: 5\n",
            "altura Azulejo: 5\n",
            "azulejos necessários:  4\n"
          ]
        }
      ],
      "source": [
        "ladoParede = int(input(\"lado parede: \"))\n",
        "alturaParede = int(input(\"altura parede: \"))\n",
        "ladoAzulejo = int(input(\"lado Azulejo: \"))\n",
        "alturaAzulejo = int(input(\"altura Azulejo: \"))\n",
        "\n",
        "perimetroParede = (ladoParede ** 2) + (alturaParede ** 2)\n",
        "perimetroAzulejo = (ladoAzulejo ** 2) + (alturaAzulejo ** 2)\n",
        "\n",
        "qtd = perimetroParede // perimetroAzulejo\n",
        "\n",
        "print(\"azulejos necessários: \",qtd)\n",
        "\n"
      ]
    },
    {
      "cell_type": "code",
      "source": [],
      "metadata": {
        "id": "3Y7neNpZd79j"
      },
      "execution_count": null,
      "outputs": []
    }
  ]
}
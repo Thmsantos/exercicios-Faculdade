{
  "nbformat": 4,
  "nbformat_minor": 0,
  "metadata": {
    "colab": {
      "provenance": [],
      "authorship_tag": "ABX9TyN3qqKX5hb6ENWJQjqAf7Qu",
      "include_colab_link": true
    },
    "kernelspec": {
      "name": "python3",
      "display_name": "Python 3"
    },
    "language_info": {
      "name": "python"
    }
  },
  "cells": [
    {
      "cell_type": "markdown",
      "metadata": {
        "id": "view-in-github",
        "colab_type": "text"
      },
      "source": [
        "<a href=\"https://colab.research.google.com/github/Thmsantos/Exercicios-Faculdade/blob/main/exerc4.ipynb\" target=\"_parent\"><img src=\"https://colab.research.google.com/assets/colab-badge.svg\" alt=\"Open In Colab\"/></a>"
      ]
    },
    {
      "cell_type": "code",
      "execution_count": 7,
      "metadata": {
        "colab": {
          "base_uri": "https://localhost:8080/"
        },
        "id": "omQHadlG8WWb",
        "outputId": "d9a9f41b-75f1-4e96-c323-66917a1b24af"
      },
      "outputs": [
        {
          "output_type": "stream",
          "name": "stdout",
          "text": [
            "raio: 5\n",
            "Perimetro do circulo = 31.4 \n",
            "area do circulo = 78.5 \n"
          ]
        }
      ],
      "source": [
        "raio = float(input(\"raio: \"))\n",
        "\n",
        "perimetro = (2 * 3.14) * raio\n",
        "area = 3.14 * (raio**2)\n",
        "\n",
        "print(\"Perimetro do circulo = %4.1f \" % (perimetro))\n",
        "print(\"area do circulo = %4.1f \" % (area))"
      ]
    }
  ]
}